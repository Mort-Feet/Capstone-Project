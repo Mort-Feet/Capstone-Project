{
 "cells": [
  {
   "cell_type": "code",
   "execution_count": 5,
   "id": "cf79578f",
   "metadata": {},
   "outputs": [],
   "source": [
    "import joblib\n",
    "import pandas as pd\n",
    "from sklearn.preprocessing import StandardScaler\n"
   ]
  },
  {
   "cell_type": "markdown",
   "id": "e4fd7722",
   "metadata": {},
   "source": [
    "# Loading the Model"
   ]
  },
  {
   "cell_type": "code",
   "execution_count": 6,
   "id": "fa56d632",
   "metadata": {},
   "outputs": [],
   "source": [
    "# Load the preprocessor\n",
    "preprocessor = joblib.load('preprocessor.joblib')\n",
    "\n",
    "# List of model filenames\n",
    "model_filenames = [\n",
    "    'random_forest_model.joblib', \n",
    "    'logistic_regression_model.joblib', \n",
    "    'gradient_boosting_model.joblib', \n",
    "    'svm_model.joblib', \n",
    "    'knn_model.joblib', \n",
    "    'naive_bayes_model.joblib', \n",
    "    'adaboost_model.joblib', \n",
    "    'xgboost_model.joblib'\n",
    "]\n",
    "\n",
    "# Load the models into a dictionary\n",
    "models = {}\n",
    "for filename in model_filenames:\n",
    "    model_name = filename.split('_model.joblib')[0].replace('_', ' ').title()\n",
    "    models[model_name] = joblib.load(filename)\n",
    "\n",
    "best_model_name = 'Random Forest'\n",
    "best_model = models[best_model_name]"
   ]
  },
  {
   "cell_type": "markdown",
   "id": "6427db7d",
   "metadata": {},
   "source": [
    "# Scoring the Model"
   ]
  },
  {
   "cell_type": "code",
   "execution_count": 11,
   "id": "694aeaa9",
   "metadata": {},
   "outputs": [
    {
     "name": "stdout",
     "output_type": "stream",
     "text": [
      "Predicted Class: 1\n"
     ]
    }
   ],
   "source": [
    "# Hypothetical Data\n",
    "data = {\n",
    "    'Recency': [50],\n",
    "    'Frequency': [10],\n",
    "    'Monetary': [500],\n",
    "    'Avg_Purchase_Value': [50],\n",
    "    'Income_per_Household_Member': [2000],\n",
    "    'Engagement_Score': [5],\n",
    "    'Total_Household': [7],\n",
    "    'Children': [5],\n",
    "    'Promo_Responsive': [1],\n",
    "    'Parent': [1],\n",
    "    'KMeans_Cluster': [0],\n",
    "    'DBSCAN_Cluster': [0],\n",
    "    'Education': ['Graduate'],\n",
    "    'Relationship_Status': ['Attached'],\n",
    "    'Age': [37],\n",
    "    'Preferred_Category': ['Fruits']\n",
    "}\n",
    "\n",
    "\n",
    "# Convert to DataFrame\n",
    "hypothetical_df = pd.DataFrame(data)\n",
    "\n",
    "# Transform the hypothetical data using the preprocessor\n",
    "transformed_data = preprocessor.transform(hypothetical_df)\n",
    "\n",
    "# Predict using the trained model\n",
    "y_pred = best_model.predict(transformed_data)\n",
    "\n",
    "# Display the prediction\n",
    "print(\"Predicted Class:\", y_pred[0])\n"
   ]
  }
 ],
 "metadata": {
  "kernelspec": {
   "display_name": "Python 3 (ipykernel)",
   "language": "python",
   "name": "python3"
  },
  "language_info": {
   "codemirror_mode": {
    "name": "ipython",
    "version": 3
   },
   "file_extension": ".py",
   "mimetype": "text/x-python",
   "name": "python",
   "nbconvert_exporter": "python",
   "pygments_lexer": "ipython3",
   "version": "3.11.7"
  }
 },
 "nbformat": 4,
 "nbformat_minor": 5
}
